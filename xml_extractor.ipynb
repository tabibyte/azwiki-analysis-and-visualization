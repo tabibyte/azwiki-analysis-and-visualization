{
 "cells": [
  {
   "cell_type": "code",
   "execution_count": 1,
   "id": "23643e96-37a8-48ad-8219-19a0ac7800e1",
   "metadata": {},
   "outputs": [],
   "source": [
    "import xml.etree.ElementTree as ET\n",
    "import pandas as pd\n",
    "\n",
    "# Parse the XML file\n",
    "tree = ET.parse('azwiki-latest-pages-articles.xml')\n",
    "root = tree.getroot()\n",
    "\n",
    "# Define namespaces (if needed)\n",
    "namespaces = {'': 'http://www.mediawiki.org/xml/export-0.11/'}\n",
    "\n",
    "# Initialize lists to store data\n",
    "data = []\n",
    "\n",
    "# Iterate through each page in the XML\n",
    "for page in root.findall('page', namespaces):\n",
    "    page_id = page.find('id', namespaces).text\n",
    "    title = page.find('title', namespaces).text\n",
    "    ns = page.find('ns', namespaces).text\n",
    "    data.append({'id': page_id, 'title': title, 'ns': ns})\n",
    "\n",
    "# Convert to DataFrame\n",
    "df = pd.DataFrame(data)\n",
    "\n",
    "# Save DataFrame to CSV with UTF-8-SIG encoding\n",
    "df.to_csv('pages.csv', encoding='utf-8-sig', index=False)\n"
   ]
  },
  {
   "cell_type": "code",
   "execution_count": 2,
   "id": "8f5ec9c6-40f2-4164-8333-b7aef38dacba",
   "metadata": {},
   "outputs": [
    {
     "name": "stdout",
     "output_type": "stream",
     "text": [
      "Head of the DataFrame:\n",
      "   id                     title  ns\n",
      "0   1                Ana səhifə   0\n",
      "1   2                  HomePage   0\n",
      "2  54     MediaViki:Subjectpage   8\n",
      "3  56   MediaViki:Wikipediapage   8\n",
      "4  60  MediaViki:Redirectedfrom   8\n",
      "\n",
      "Shape of the DataFrame:\n",
      "(457518, 3)\n",
      "\n",
      "Basic Information:\n",
      "<class 'pandas.core.frame.DataFrame'>\n",
      "RangeIndex: 457518 entries, 0 to 457517\n",
      "Data columns (total 3 columns):\n",
      " #   Column  Non-Null Count   Dtype \n",
      "---  ------  --------------   ----- \n",
      " 0   id      457518 non-null  int64 \n",
      " 1   title   457518 non-null  object\n",
      " 2   ns      457518 non-null  int64 \n",
      "dtypes: int64(2), object(1)\n",
      "memory usage: 10.5+ MB\n",
      "None\n",
      "\n",
      "Summary Statistics:\n",
      "                   id       title             ns\n",
      "count   457518.000000      457518  457518.000000\n",
      "unique            NaN      457518            NaN\n",
      "top               NaN  Ana səhifə            NaN\n",
      "freq              NaN           1            NaN\n",
      "mean    494482.439537         NaN       5.868049\n",
      "std     250160.925556         NaN      29.379751\n",
      "min          1.000000         NaN       0.000000\n",
      "25%     287700.250000         NaN       0.000000\n",
      "50%     524597.000000         NaN       0.000000\n",
      "75%     715107.750000         NaN      14.000000\n",
      "max     867697.000000         NaN     828.000000\n"
     ]
    }
   ],
   "source": [
    "pages = pd.read_csv('pages.csv', encoding='utf-8-sig')\n",
    "\n",
    "# Display the first few rows of the DataFrame\n",
    "print(\"Head of the DataFrame:\")\n",
    "print(pages.head())\n",
    "\n",
    "# Display the number of rows and columns\n",
    "print(\"\\nShape of the DataFrame:\")\n",
    "print(pages.shape)\n",
    "\n",
    "# Display basic information about the DataFrame\n",
    "print(\"\\nBasic Information:\")\n",
    "print(pages.info())\n",
    "\n",
    "# Display summary statistics (if applicable)\n",
    "print(\"\\nSummary Statistics:\")\n",
    "print(pages.describe(include='all'))"
   ]
  },
  {
   "cell_type": "code",
   "execution_count": 4,
   "id": "47bf6b53-47d9-48b8-ad92-7b0e80c786ae",
   "metadata": {},
   "outputs": [
    {
     "data": {
      "text/html": [
       "<div>\n",
       "<style scoped>\n",
       "    .dataframe tbody tr th:only-of-type {\n",
       "        vertical-align: middle;\n",
       "    }\n",
       "\n",
       "    .dataframe tbody tr th {\n",
       "        vertical-align: top;\n",
       "    }\n",
       "\n",
       "    .dataframe thead th {\n",
       "        text-align: right;\n",
       "    }\n",
       "</style>\n",
       "<table border=\"1\" class=\"dataframe\">\n",
       "  <thead>\n",
       "    <tr style=\"text-align: right;\">\n",
       "      <th></th>\n",
       "      <th>id</th>\n",
       "      <th>title</th>\n",
       "      <th>ns</th>\n",
       "    </tr>\n",
       "  </thead>\n",
       "  <tbody>\n",
       "    <tr>\n",
       "      <th>0</th>\n",
       "      <td>1</td>\n",
       "      <td>Ana səhifə</td>\n",
       "      <td>0</td>\n",
       "    </tr>\n",
       "    <tr>\n",
       "      <th>1</th>\n",
       "      <td>2</td>\n",
       "      <td>HomePage</td>\n",
       "      <td>0</td>\n",
       "    </tr>\n",
       "    <tr>\n",
       "      <th>35</th>\n",
       "      <td>604</td>\n",
       "      <td>İnternet</td>\n",
       "      <td>0</td>\n",
       "    </tr>\n",
       "    <tr>\n",
       "      <th>37</th>\n",
       "      <td>610</td>\n",
       "      <td>Tarix</td>\n",
       "      <td>0</td>\n",
       "    </tr>\n",
       "    <tr>\n",
       "      <th>38</th>\n",
       "      <td>611</td>\n",
       "      <td>Dağlıq Qarabağ</td>\n",
       "      <td>0</td>\n",
       "    </tr>\n",
       "  </tbody>\n",
       "</table>\n",
       "</div>"
      ],
      "text/plain": [
       "     id           title  ns\n",
       "0     1      Ana səhifə   0\n",
       "1     2        HomePage   0\n",
       "35  604        İnternet   0\n",
       "37  610           Tarix   0\n",
       "38  611  Dağlıq Qarabağ   0"
      ]
     },
     "execution_count": 4,
     "metadata": {},
     "output_type": "execute_result"
    }
   ],
   "source": [
    "# Load the CSV file into a DataFrame\n",
    "df = pd.read_csv('pages.csv', encoding='utf-8-sig')\n",
    "\n",
    "# Filter the DataFrame to keep only rows with namespaces 0, 14, and 100\n",
    "filtered_df = df[df['ns'].astype(int).isin([0, 14, 100])]\n",
    "\n",
    "# Get the count of the remaining rows\n",
    "row_count = filtered_df.shape[0]\n",
    "\n",
    "# Display the filtered DataFrame and row count\n",
    "filtered_df.head()\n"
   ]
  },
  {
   "cell_type": "code",
   "execution_count": 5,
   "id": "e3b0f0fa-2207-4ebe-99be-dc299c3b3411",
   "metadata": {},
   "outputs": [
    {
     "data": {
      "text/plain": [
       "404751"
      ]
     },
     "execution_count": 5,
     "metadata": {},
     "output_type": "execute_result"
    }
   ],
   "source": [
    "row_count\n"
   ]
  },
  {
   "cell_type": "code",
   "execution_count": 8,
   "id": "de299dd4-7026-4c95-96ba-f50c71501b0c",
   "metadata": {},
   "outputs": [],
   "source": [
    "filtered_df.to_csv('pages_complete.csv', encoding='utf-8-sig', index=False)"
   ]
  },
  {
   "cell_type": "code",
   "execution_count": 17,
   "id": "5eb2ed43-5ff5-403b-b407-47a2377fafb7",
   "metadata": {},
   "outputs": [
    {
     "name": "stdout",
     "output_type": "stream",
     "text": [
      "404751 filtered pages\n",
      "10599277 unfiltered links\n"
     ]
    }
   ],
   "source": [
    "pages_df = pd.read_csv('pages_complete.csv', encoding='utf-8-sig')\n",
    "pagelinks_df = pd.read_csv('pagelinks.csv', encoding='utf-8-sig')\n",
    "print(str(pages_df.shape[0]) + ' filtered pages')\n",
    "print(str(pagelinks_df.shape[0]) + ' unfiltered links')"
   ]
  },
  {
   "cell_type": "code",
   "execution_count": 21,
   "id": "a50e2efa-4dcc-4287-9078-8050e5045d44",
   "metadata": {},
   "outputs": [
    {
     "data": {
      "text/plain": [
       "4082783"
      ]
     },
     "execution_count": 21,
     "metadata": {},
     "output_type": "execute_result"
    }
   ],
   "source": [
    "# Extract the valid IDs from pages_df\n",
    "valid_ids = set(pages_df['id'].astype(int))\n",
    "\n",
    "# Check if link_from or link_to contains invalid IDs\n",
    "valid_pagelinks_df = pagelinks_df[\n",
    "    pagelinks_df['link_from'].astype(int).isin(valid_ids) &\n",
    "    pagelinks_df['link_to'].astype(int).isin(valid_ids)\n",
    "]\n",
    "\n",
    "# Display the count of the remaining rows\n",
    "final_row_count = valid_pagelinks_df.shape[0]\n",
    "final_row_count"
   ]
  },
  {
   "cell_type": "code",
   "execution_count": 22,
   "id": "cb58163d-5d74-47fc-bfd5-8c236d59fcf8",
   "metadata": {},
   "outputs": [],
   "source": [
    "valid_pagelinks_df.to_csv('pagelinks_complete.csv', encoding='utf-8-sig', index=False)"
   ]
  },
  {
   "cell_type": "code",
   "execution_count": null,
   "id": "6e6099e4-9119-4ec2-b5ad-50cec4ea3f1c",
   "metadata": {},
   "outputs": [],
   "source": []
  }
 ],
 "metadata": {
  "kernelspec": {
   "display_name": "Python 3 (ipykernel)",
   "language": "python",
   "name": "python3"
  },
  "language_info": {
   "codemirror_mode": {
    "name": "ipython",
    "version": 3
   },
   "file_extension": ".py",
   "mimetype": "text/x-python",
   "name": "python",
   "nbconvert_exporter": "python",
   "pygments_lexer": "ipython3",
   "version": "3.12.2"
  }
 },
 "nbformat": 4,
 "nbformat_minor": 5
}

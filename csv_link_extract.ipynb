{
 "cells": [
  {
   "cell_type": "code",
   "execution_count": 1,
   "id": "d78b81d2-44d1-403c-b789-f8367a6f244a",
   "metadata": {},
   "outputs": [],
   "source": [
    "import csv\n",
    "import re\n",
    "import pandas as pd"
   ]
  },
  {
   "cell_type": "code",
   "execution_count": 2,
   "id": "72d197cc-5ee3-4c14-9840-086e4c62b457",
   "metadata": {},
   "outputs": [],
   "source": [
    "path_articles = r'articles.csv'\n",
    "path_internal_links = r'internal_links.csv'\n",
    "encoding = \"utf-8-sig\""
   ]
  },
  {
   "cell_type": "code",
   "execution_count": 3,
   "id": "b34d6d70-a9ff-4754-9c0d-69297f940191",
   "metadata": {},
   "outputs": [],
   "source": [
    "def extract_internal_links(text):\n",
    "    pattern = r'\\[\\[([^|\\]]+)(?:\\|[^\\]]*)?\\]\\]'\n",
    "    return re.findall(pattern, text)"
   ]
  },
  {
   "cell_type": "code",
   "execution_count": 4,
   "id": "34c93d5b-e450-4f2f-973d-c507621232a6",
   "metadata": {},
   "outputs": [],
   "source": [
    "articles_df = pd.read_csv(path_articles, encoding=encoding)"
   ]
  },
  {
   "cell_type": "code",
   "execution_count": 5,
   "id": "9562f772-7991-48d6-b78f-a0586d447341",
   "metadata": {},
   "outputs": [],
   "source": [
    "articles_df['text'] = articles_df['text'].fillna('').astype(str)"
   ]
  },
  {
   "cell_type": "code",
   "execution_count": 6,
   "id": "54382166-fbac-4700-ab0c-8731df9be419",
   "metadata": {},
   "outputs": [
    {
     "name": "stdout",
     "output_type": "stream",
     "text": [
      "Internal links extraction completed. Data saved to internal_links.csv\n"
     ]
    }
   ],
   "source": [
    "with open(path_internal_links, 'w', encoding=encoding, newline='') as links_file:\n",
    "    links_writer = csv.writer(links_file, quoting=csv.QUOTE_MINIMAL)\n",
    "    links_writer.writerow(['article_id', 'article_title', 'internal_link'])\n",
    "\n",
    "    # Process each row in the DataFrame\n",
    "    for _, row in articles_df.iterrows():\n",
    "        article_id = row['id']\n",
    "        title = row['title']\n",
    "        text = row['text']\n",
    "        \n",
    "        # Extract internal links\n",
    "        internal_links = extract_internal_links(text)\n",
    "        for link in internal_links:\n",
    "            links_writer.writerow([article_id, title, link])\n",
    "\n",
    "print(f\"Internal links extraction completed. Data saved to {path_internal_links}\")"
   ]
  },
  {
   "cell_type": "code",
   "execution_count": 9,
   "id": "0e258a05-54bc-4b2b-96cb-5e3595c7e57d",
   "metadata": {},
   "outputs": [
    {
     "name": "stdout",
     "output_type": "stream",
     "text": [
      "The number of internal links in internal_links.csv is: 2170589\n"
     ]
    }
   ],
   "source": [
    "internal_links = r\"internal_links.csv\"\n",
    "\n",
    "df_internal_links = pd.read_csv(internal_links, encoding='utf-8-sig')\n",
    "\n",
    "# Count the number of rows (which corresponds to the number of lines in the CSV)\n",
    "line_count = len(df_internal_links)\n",
    "\n",
    "print(f\"The number of internal links in {path_internal_links} is: {line_count}\")"
   ]
  },
  {
   "cell_type": "code",
   "execution_count": null,
   "id": "d39fd4db-bb77-45c0-822a-837ce260551f",
   "metadata": {},
   "outputs": [],
   "source": []
  }
 ],
 "metadata": {
  "kernelspec": {
   "display_name": "Python 3 (ipykernel)",
   "language": "python",
   "name": "python3"
  },
  "language_info": {
   "codemirror_mode": {
    "name": "ipython",
    "version": 3
   },
   "file_extension": ".py",
   "mimetype": "text/x-python",
   "name": "python",
   "nbconvert_exporter": "python",
   "pygments_lexer": "ipython3",
   "version": "3.12.2"
  }
 },
 "nbformat": 4,
 "nbformat_minor": 5
}

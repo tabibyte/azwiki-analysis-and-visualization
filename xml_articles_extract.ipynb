{
 "cells": [
  {
   "cell_type": "code",
   "execution_count": 1,
   "id": "9fbc1d4d-47ef-4498-beae-97b1aae67647",
   "metadata": {},
   "outputs": [],
   "source": [
    "import xml.etree.ElementTree as etree\n",
    "import codecs\n",
    "import csv\n",
    "import time\n",
    "import os"
   ]
  },
  {
   "cell_type": "code",
   "execution_count": 2,
   "id": "ddf9a844-1d6e-42b0-bddd-50ad4a0d6128",
   "metadata": {},
   "outputs": [],
   "source": [
    "PATH_WIKI_XML = 'azwiki_analysis'\n",
    "FILENAME_WIKI = 'azwiki-latest-pages-articles.xml'\n",
    "FILENAME_ARTICLES = 'articles.csv'\n",
    "FILENAME_REDIRECT = 'articles_redirect.csv'\n",
    "FILENAME_TEMPLATE = 'articles_template.csv'\n",
    "ENCODING = \"utf-8-sig\""
   ]
  },
  {
   "cell_type": "code",
   "execution_count": 3,
   "id": "93985b00-f9ac-4ae0-92b6-652577385c32",
   "metadata": {},
   "outputs": [],
   "source": [
    "def hms_string(sec_elapsed):\n",
    "    h = int(sec_elapsed / (60 * 60))\n",
    "    m = int((sec_elapsed % (60 * 60)) / 60)\n",
    "    s = sec_elapsed % 60\n",
    "    return \"{}:{:>02}:{:>05.2f}\".format(h, m, s)"
   ]
  },
  {
   "cell_type": "code",
   "execution_count": 4,
   "id": "02823b56-c817-47d6-aee0-42131f7dac97",
   "metadata": {},
   "outputs": [],
   "source": [
    "def strip_tag_name(t):\n",
    "    t = elem.tag\n",
    "    idx = k = t.rfind(\"}\")\n",
    "    if idx != -1:\n",
    "        t = t[idx + 1:]\n",
    "    return t"
   ]
  },
  {
   "cell_type": "code",
   "execution_count": 5,
   "id": "d2410446-d918-4154-ba4b-56708275dc3a",
   "metadata": {},
   "outputs": [],
   "source": [
    "pathWikiXML = os.path.join(PATH_WIKI_XML, FILENAME_WIKI)\n",
    "pathArticles = os.path.join(PATH_WIKI_XML, FILENAME_ARTICLES)\n",
    "pathArticlesRedirect = os.path.join(PATH_WIKI_XML, FILENAME_REDIRECT)\n",
    "pathTemplateRedirect = os.path.join(PATH_WIKI_XML, FILENAME_TEMPLATE)"
   ]
  },
  {
   "cell_type": "code",
   "execution_count": 6,
   "id": "34dc1640-cc72-43f7-9199-5f56a19199c5",
   "metadata": {},
   "outputs": [],
   "source": [
    "totalCount = 0\n",
    "articleCount = 0\n",
    "redirectCount = 0\n",
    "templateCount = 0\n",
    "title = None\n",
    "start_time = time.time()"
   ]
  },
  {
   "cell_type": "code",
   "execution_count": 7,
   "id": "d32cfe16-8e77-4b0d-82a2-e880ad574436",
   "metadata": {},
   "outputs": [
    {
     "name": "stdout",
     "output_type": "stream",
     "text": [
      "100,000\n",
      "200,000\n",
      "300,000\n",
      "400,000\n",
      "Total runtime: 0:01:41.21\n"
     ]
    }
   ],
   "source": [
    "with codecs.open(pathArticles, \"w\", ENCODING) as articlesFH, \\\n",
    "        codecs.open(pathArticlesRedirect, \"w\", ENCODING) as redirectFH, \\\n",
    "        codecs.open(pathTemplateRedirect, \"w\", ENCODING) as templateFH:\n",
    "    articlesWriter = csv.writer(articlesFH, quoting=csv.QUOTE_MINIMAL)\n",
    "    redirectWriter = csv.writer(redirectFH, quoting=csv.QUOTE_MINIMAL)\n",
    "    templateWriter = csv.writer(templateFH, quoting=csv.QUOTE_MINIMAL)\n",
    "\n",
    "    articlesWriter.writerow(['id', 'title', 'text'])\n",
    "    redirectWriter.writerow(['id', 'title', 'redirect'])\n",
    "    templateWriter.writerow(['id', 'title'])\n",
    "    \n",
    "    for event, elem in etree.iterparse(pathWikiXML, events=('start', 'end')):\n",
    "        tname = strip_tag_name(elem.tag)\n",
    "    \n",
    "        if event == 'start':\n",
    "            if tname == 'page':\n",
    "                title = ''\n",
    "                id = -1\n",
    "                text = ''\n",
    "                redirect = ''\n",
    "                inrevision = False\n",
    "                ns = 0\n",
    "            elif tname == 'revision':\n",
    "                inrevision = True\n",
    "            elif tname == 'title':\n",
    "                title = elem.text\n",
    "            elif tname == 'id' and not inrevision and elem.text is not None:\n",
    "                id = int(elem.text)\n",
    "            elif tname == 'text':\n",
    "                text = elem.text\n",
    "            elif tname == 'redirect':\n",
    "                redirect = elem.get('title', '')\n",
    "            elif tname == 'ns' and elem.text is not None:\n",
    "                ns = int(elem.text)\n",
    "        elif event == 'end' and tname == 'page':\n",
    "            totalCount += 1\n",
    "\n",
    "            if ns == 10:\n",
    "                templateCount += 1\n",
    "                templateWriter.writerow([id, title])\n",
    "            elif redirect:\n",
    "                redirectCount += 1\n",
    "                redirectWriter.writerow([id, title, redirect])\n",
    "            else:\n",
    "                articleCount += 1\n",
    "                articlesWriter.writerow([id, title, text])\n",
    "    \n",
    "            if totalCount > 1 and (totalCount % 100000) == 0:\n",
    "                print(\"{:,}\".format(totalCount))\n",
    "    \n",
    "        elem.clear()\n",
    "\n",
    "time_took = time.time() - start_time\n",
    "print(f\"Total runtime: {hms_string(time_took)}\")"
   ]
  }
 ],
 "metadata": {
  "kernelspec": {
   "display_name": "Python 3 (ipykernel)",
   "language": "python",
   "name": "python3"
  },
  "language_info": {
   "codemirror_mode": {
    "name": "ipython",
    "version": 3
   },
   "file_extension": ".py",
   "mimetype": "text/x-python",
   "name": "python",
   "nbconvert_exporter": "python",
   "pygments_lexer": "ipython3",
   "version": "3.12.2"
  }
 },
 "nbformat": 4,
 "nbformat_minor": 5
}
